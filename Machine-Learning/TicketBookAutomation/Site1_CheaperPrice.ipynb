{
 "cells": [
  {
   "cell_type": "code",
   "execution_count": 52,
   "id": "18e41d11",
   "metadata": {},
   "outputs": [],
   "source": [
    "from selenium import webdriver\n",
    "from selenium.webdriver.common.keys import Keys\n",
    "import pandas as pd\n",
    "import datetime as datetime\n",
    "from selenium.webdriver.common.by import By\n",
    "from selenium.webdriver.support.ui import WebDriverWait\n",
    "from selenium.webdriver.support import expected_conditions as EC\n",
    "import time"
   ]
  },
  {
   "cell_type": "code",
   "execution_count": 2,
   "id": "56d60b4b",
   "metadata": {},
   "outputs": [],
   "source": [
    "def dataLoad():\n",
    "    return pd.read_excel(\"./Location.xlsx\").applymap(str.lower)"
   ]
  },
  {
   "cell_type": "code",
   "execution_count": 24,
   "id": "6daae003",
   "metadata": {},
   "outputs": [],
   "source": [
    "def cheapflightsearch(startlocation ,endlocation , startdate , enddate,dataframe):\n",
    "    airline = \"\";\n",
    "    price = \"\";\n",
    "    if(not((isValidLocation(dataframe,startlocation)) & (isValidLocation(dataframe,endlocation)))):\n",
    "        return (\"Invalid Location\" , \"-1\")\n",
    "    elif(not ((isValidDateFormat(startdate)) & ((isValidDateFormat(enddate) | (enddate is None) | (enddate ==\"\"))))):\n",
    "        return (\"Invalid Date\" , \"-1\")\n",
    "    return (airline , price)"
   ]
  },
  {
   "cell_type": "code",
   "execution_count": 4,
   "id": "c29fe433",
   "metadata": {},
   "outputs": [],
   "source": [
    "def isValidLocation(dataframe , location):\n",
    "    return (location.lower() in dataframe['Name'].unique()) | (location.lower() in dataframe['Code'].unique())"
   ]
  },
  {
   "cell_type": "code",
   "execution_count": 5,
   "id": "b5e44fb7",
   "metadata": {},
   "outputs": [],
   "source": [
    "def isValidDateFormat(dateValue):\n",
    "    format = \"%Y-%m-%d\"\n",
    "    if dateValue is None:\n",
    "        return False\n",
    "    else:\n",
    "        try:\n",
    "            datetime.datetime.strptime(dateValue, format)\n",
    "            return True\n",
    "        except ValueError:\n",
    "            return False"
   ]
  },
  {
   "cell_type": "code",
   "execution_count": 71,
   "id": "f3a911ea",
   "metadata": {},
   "outputs": [],
   "source": [
    "def callCheapFlightStatus(source,destination,startDate,endDate):\n",
    "    dataframe = dataLoad()\n",
    "    result = cheapflightsearch(source,destination,startDate,endDate,dataframe)\n",
    "    if (result[0]==\"\"):\n",
    "        driver = webdriver.Chrome('./chromedriver')\n",
    "        driver.get(\"https://www.makemytrip.com/\")\n",
    "        try:\n",
    "            driver.maximize_window()\n",
    "            WebDriverWait(driver, 5).until(EC.presence_of_element_located((By.XPATH, '/html')))\n",
    "            driver.find_element_by_xpath(\"/html/body/div[1]/div/div[2]/div/div/div[2]/div[1]/div[1]/label/input\").click()\n",
    "            time.sleep(3)\n",
    "            sourceFiled= driver.find_element_by_xpath(\"/html/body/div[1]/div/div[2]/div/div/div[2]/div[1]/div[1]/div[1]/div/div/div/input\")\n",
    "            sourceFiled.clear()\n",
    "            sourceFiled.send_keys(source)\n",
    "            time.sleep(3)\n",
    "            driver.find_element_by_xpath(\"/html/body/div[1]/div/div[2]/div/div/div[2]/div[1]/div[1]/div[1]/div/div/div/div/div/ul/li[1]/div/div[1]\").click()\n",
    "            time.sleep(3)\n",
    "            destinationPath=driver.find_element_by_xpath(\"/html/body/div[1]/div/div[2]/div/div/div[2]/div[1]/div[2]/div[1]/div/div/div[1]/input\")\n",
    "            destinationPath.clear()\n",
    "            destinationPath.send_keys(destination)\n",
    "            time.sleep(5)\n",
    "        except e:\n",
    "            print(\"Error - \" +e)\n",
    "        finally:\n",
    "            driver.close()\n",
    "    else:\n",
    "        print(result)"
   ]
  },
  {
   "cell_type": "code",
   "execution_count": 73,
   "id": "8b9492a9",
   "metadata": {},
   "outputs": [],
   "source": [
    "#callCheapFlightStatus(\"pnq\",\"del\",\"2022-06-02\",\"\")"
   ]
  },
  {
   "cell_type": "code",
   "execution_count": null,
   "id": "d716b9e3",
   "metadata": {},
   "outputs": [],
   "source": []
  },
  {
   "cell_type": "code",
   "execution_count": null,
   "id": "b4bc367c",
   "metadata": {},
   "outputs": [],
   "source": []
  },
  {
   "cell_type": "code",
   "execution_count": null,
   "id": "1b2d817e",
   "metadata": {},
   "outputs": [],
   "source": []
  }
 ],
 "metadata": {
  "kernelspec": {
   "display_name": "Python 3 (ipykernel)",
   "language": "python",
   "name": "python3"
  },
  "language_info": {
   "codemirror_mode": {
    "name": "ipython",
    "version": 3
   },
   "file_extension": ".py",
   "mimetype": "text/x-python",
   "name": "python",
   "nbconvert_exporter": "python",
   "pygments_lexer": "ipython3",
   "version": "3.9.7"
  }
 },
 "nbformat": 4,
 "nbformat_minor": 5
}
