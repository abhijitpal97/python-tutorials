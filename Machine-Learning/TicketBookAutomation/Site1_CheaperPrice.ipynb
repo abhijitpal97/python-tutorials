{
 "cells": [
  {
   "cell_type": "code",
   "execution_count": 3,
   "id": "18e41d11",
   "metadata": {},
   "outputs": [],
   "source": [
    "from selenium import webdriver\n",
    "from selenium.webdriver.common.keys import Keys\n",
    "import pandas as pd\n",
    "import datetime as datetime\n",
    "from datetime import datetime as dt\n",
    "from selenium.webdriver.common.by import By\n",
    "from selenium.webdriver.support.ui import WebDriverWait\n",
    "from selenium.webdriver.support import expected_conditions as EC\n",
    "import time\n",
    "from selenium.webdriver.chrome.options import Options\n",
    "\n",
    "dictCalander = {\"January\":\"01\" ,\n",
    "\"February\":\"02\", \n",
    "\"March\":\"03\", \n",
    "\"April\":\"04\", \n",
    "\"May\":\"05\", \n",
    "\"June\":\"06\", \n",
    "\"July\":\"07\", \n",
    "\"August\":\"08\", \n",
    "\"September\":\"09\", \n",
    "\"October\":\"10\",\n",
    "\"November\":\"11\",\n",
    "\"December\":\"12\"}"
   ]
  },
  {
   "cell_type": "code",
   "execution_count": 4,
   "id": "56d60b4b",
   "metadata": {},
   "outputs": [],
   "source": [
    "def dataLoad():\n",
    "    return pd.read_excel(\"./Location.xlsx\").applymap(str.lower)"
   ]
  },
  {
   "cell_type": "code",
   "execution_count": 5,
   "id": "6daae003",
   "metadata": {},
   "outputs": [],
   "source": [
    "def cheapflightsearch(startlocation ,endlocation , startdate , enddate,dataframe):\n",
    "    airline = \"\";\n",
    "    price = \"\";\n",
    "    if(not((isValidLocation(dataframe,startlocation)) & (isValidLocation(dataframe,endlocation)))):\n",
    "        return (\"Invalid Location\" , \"-1\")\n",
    "    elif(not ((isValidDateFormat(startdate)) & ((isValidDateFormat(enddate) | (enddate is None) | (enddate ==\"\"))))):\n",
    "        return (\"Invalid Date\" , \"-1\")\n",
    "    return (airline , price)"
   ]
  },
  {
   "cell_type": "code",
   "execution_count": 6,
   "id": "c29fe433",
   "metadata": {},
   "outputs": [],
   "source": [
    "def isValidLocation(dataframe , location):\n",
    "    return (location.lower() in dataframe['Name'].unique()) | (location.lower() in dataframe['Code'].unique())"
   ]
  },
  {
   "cell_type": "code",
   "execution_count": 7,
   "id": "b5e44fb7",
   "metadata": {},
   "outputs": [],
   "source": [
    "def isValidDateFormat(dateValue):\n",
    "    format = \"%Y-%m-%d\"\n",
    "    present = dt.now().strftime(format)\n",
    "    present = datetime.datetime.strptime(present, format)\n",
    "    if dateValue is None:\n",
    "        return False\n",
    "    else:\n",
    "        try:\n",
    "            past = datetime.datetime.strptime(dateValue, format)\n",
    "            if past>present:\n",
    "                return True\n",
    "            else:\n",
    "                return False\n",
    "        except ValueError:\n",
    "            return False"
   ]
  },
  {
   "cell_type": "code",
   "execution_count": 17,
   "id": "f3a911ea",
   "metadata": {},
   "outputs": [],
   "source": [
    "def callCheapFlightStatus(source,destination,startDate,endDate):\n",
    "    dataframe = dataLoad()\n",
    "    result = cheapflightsearch(source,destination,startDate,endDate,dataframe)\n",
    "    if (result[0]==\"\"):\n",
    "        chrome_options = Options()\n",
    "        chrome_options.add_experimental_option(\"detach\", True)\n",
    "        driver = webdriver.Chrome('./chromedriver', options=chrome_options)\n",
    "        driver.get(\"https://www.makemytrip.com/\")\n",
    "        try:\n",
    "            driver.maximize_window()\n",
    "            WebDriverWait(driver, 5).until(EC.presence_of_element_located((By.XPATH, '/html')))\n",
    "            driver.find_element_by_xpath(\"/html/body/div[1]/div/div[2]/div/div/div[2]/div[1]/div[1]/label/input\").click()\n",
    "            time.sleep(3)\n",
    "            sourceFiled= driver.find_element_by_xpath(\"/html/body/div[1]/div/div[2]/div/div/div[2]/div[1]/div[1]/div[1]/div/div/div/input\")\n",
    "            sourceFiled.clear()\n",
    "            sourceFiled.send_keys(source)\n",
    "            time.sleep(3)\n",
    "            driver.find_element_by_xpath(\"/html/body/div[1]/div/div[2]/div/div/div[2]/div[1]/div[1]/div[1]/div/div/div/div/div[1]/ul/li[1]/div/div[1]\").click()\n",
    "            time.sleep(3)\n",
    "            destinationPath=driver.find_element_by_xpath(\"/html/body/div[1]/div/div[2]/div/div/div[2]/div[1]/div[2]/div[1]/div/div/div[1]/input\")\n",
    "            destinationPath.clear()\n",
    "            destinationPath.send_keys(destination)\n",
    "            time.sleep(3)\n",
    "            driver.find_element_by_xpath(\"/html/body/div[1]/div/div[2]/div/div/div[2]/div[1]/div[2]/div[1]/div/div/div[1]/div/div[1]/ul/li[1]/div/div[1]\").click()\n",
    "            time.sleep(3)\n",
    "            currentmonth = driver.find_element_by_xpath(\"/html/body/div[1]/div/div[2]/div/div/div[2]/div[1]/div[3]/div[1]/div/div/div/div[2]/div/div[2]/div[1]/div[1]/div\").text\n",
    "            print(\"Inside the Driver \" )\n",
    "            pastmonth = dictCalander.get(currentmonth.split()[0])\n",
    "            startMonth=startDate.split(\"-\")[1]\n",
    "            startDay=startDate.split(\"-\")[2]\n",
    "            print(\"Past Month \" +pastmonth)\n",
    "            print(\"Current Month \"+startMonth)\n",
    "            while(pastmonth!=currentmonth):\n",
    "                driver.find_element_by_xpath(\"/html/body/div[1]/div/div[2]/div/div/div[2]/div[1]/div[3]/div[1]/div/div/div/div[2]/div/div[1]/span[2]\").click()\n",
    "        except e:\n",
    "            print(\"Error - \" +e)\n",
    "        finally:\n",
    "            #driver.close()\n",
    "            print(\"Executed\")\n",
    "    else:\n",
    "        print(result)"
   ]
  },
  {
   "cell_type": "code",
   "execution_count": null,
   "id": "d716b9e3",
   "metadata": {},
   "outputs": [],
   "source": []
  },
  {
   "cell_type": "code",
   "execution_count": 18,
   "id": "8b9492a9",
   "metadata": {},
   "outputs": [
    {
     "name": "stderr",
     "output_type": "stream",
     "text": [
      "C:\\Users\\WWWABC~1.IN\\AppData\\Local\\Temp/ipykernel_21660/681998398.py:7: DeprecationWarning: executable_path has been deprecated, please pass in a Service object\n",
      "  driver = webdriver.Chrome('./chromedriver', options=chrome_options)\n",
      "C:\\Users\\WWWABC~1.IN\\AppData\\Local\\Temp/ipykernel_21660/681998398.py:12: DeprecationWarning: find_element_by_xpath is deprecated. Please use find_element(by=By.XPATH, value=xpath) instead\n",
      "  driver.find_element_by_xpath(\"/html/body/div[1]/div/div[2]/div/div/div[2]/div[1]/div[1]/label/input\").click()\n",
      "C:\\Users\\WWWABC~1.IN\\AppData\\Local\\Temp/ipykernel_21660/681998398.py:14: DeprecationWarning: find_element_by_xpath is deprecated. Please use find_element(by=By.XPATH, value=xpath) instead\n",
      "  sourceFiled= driver.find_element_by_xpath(\"/html/body/div[1]/div/div[2]/div/div/div[2]/div[1]/div[1]/div[1]/div/div/div/input\")\n",
      "C:\\Users\\WWWABC~1.IN\\AppData\\Local\\Temp/ipykernel_21660/681998398.py:18: DeprecationWarning: find_element_by_xpath is deprecated. Please use find_element(by=By.XPATH, value=xpath) instead\n",
      "  driver.find_element_by_xpath(\"/html/body/div[1]/div/div[2]/div/div/div[2]/div[1]/div[1]/div[1]/div/div/div/div/div[1]/ul/li[1]/div/div[1]\").click()\n",
      "C:\\Users\\WWWABC~1.IN\\AppData\\Local\\Temp/ipykernel_21660/681998398.py:20: DeprecationWarning: find_element_by_xpath is deprecated. Please use find_element(by=By.XPATH, value=xpath) instead\n",
      "  destinationPath=driver.find_element_by_xpath(\"/html/body/div[1]/div/div[2]/div/div/div[2]/div[1]/div[2]/div[1]/div/div/div[1]/input\")\n",
      "C:\\Users\\WWWABC~1.IN\\AppData\\Local\\Temp/ipykernel_21660/681998398.py:24: DeprecationWarning: find_element_by_xpath is deprecated. Please use find_element(by=By.XPATH, value=xpath) instead\n",
      "  driver.find_element_by_xpath(\"/html/body/div[1]/div/div[2]/div/div/div[2]/div[1]/div[2]/div[1]/div/div/div[1]/div/div[1]/ul/li[1]/div/div[1]\").click()\n",
      "C:\\Users\\WWWABC~1.IN\\AppData\\Local\\Temp/ipykernel_21660/681998398.py:26: DeprecationWarning: find_element_by_xpath is deprecated. Please use find_element(by=By.XPATH, value=xpath) instead\n",
      "  currentmonth = driver.find_element_by_xpath(\"/html/body/div[1]/div/div[2]/div/div/div[2]/div[1]/div[3]/div[1]/div/div/div/div[2]/div/div[2]/div[1]/div[1]/div\").text\n",
      "C:\\Users\\WWWABC~1.IN\\AppData\\Local\\Temp/ipykernel_21660/681998398.py:34: DeprecationWarning: find_element_by_xpath is deprecated. Please use find_element(by=By.XPATH, value=xpath) instead\n",
      "  driver.find_element_by_xpath(\"/html/body/div[1]/div/div[2]/div/div/div[2]/div[1]/div[3]/div[1]/div/div/div/div[2]/div/div[1]/span[2]\").click()\n"
     ]
    },
    {
     "name": "stdout",
     "output_type": "stream",
     "text": [
      "Inside the Driver \n",
      "Past Month 06\n",
      "Current Month 07\n",
      "Executed\n"
     ]
    },
    {
     "ename": "NameError",
     "evalue": "name 'e' is not defined",
     "output_type": "error",
     "traceback": [
      "\u001b[1;31m---------------------------------------------------------------------------\u001b[0m",
      "\u001b[1;31mElementNotInteractableException\u001b[0m           Traceback (most recent call last)",
      "\u001b[1;32mC:\\Users\\WWWABC~1.IN\\AppData\\Local\\Temp/ipykernel_21660/681998398.py\u001b[0m in \u001b[0;36mcallCheapFlightStatus\u001b[1;34m(source, destination, startDate, endDate)\u001b[0m\n\u001b[0;32m     33\u001b[0m             \u001b[1;32mwhile\u001b[0m\u001b[1;33m(\u001b[0m\u001b[0mpastmonth\u001b[0m\u001b[1;33m!=\u001b[0m\u001b[0mcurrentmonth\u001b[0m\u001b[1;33m)\u001b[0m\u001b[1;33m:\u001b[0m\u001b[1;33m\u001b[0m\u001b[1;33m\u001b[0m\u001b[0m\n\u001b[1;32m---> 34\u001b[1;33m                 \u001b[0mdriver\u001b[0m\u001b[1;33m.\u001b[0m\u001b[0mfind_element_by_xpath\u001b[0m\u001b[1;33m(\u001b[0m\u001b[1;34m\"/html/body/div[1]/div/div[2]/div/div/div[2]/div[1]/div[3]/div[1]/div/div/div/div[2]/div/div[1]/span[2]\"\u001b[0m\u001b[1;33m)\u001b[0m\u001b[1;33m.\u001b[0m\u001b[0mclick\u001b[0m\u001b[1;33m(\u001b[0m\u001b[1;33m)\u001b[0m\u001b[1;33m\u001b[0m\u001b[1;33m\u001b[0m\u001b[0m\n\u001b[0m\u001b[0;32m     35\u001b[0m         \u001b[1;32mexcept\u001b[0m \u001b[0me\u001b[0m\u001b[1;33m:\u001b[0m\u001b[1;33m\u001b[0m\u001b[1;33m\u001b[0m\u001b[0m\n",
      "\u001b[1;32m~\\anaconda3\\lib\\site-packages\\selenium\\webdriver\\remote\\webelement.py\u001b[0m in \u001b[0;36mclick\u001b[1;34m(self)\u001b[0m\n\u001b[0;32m     88\u001b[0m         \u001b[1;34m\"\"\"Clicks the element.\"\"\"\u001b[0m\u001b[1;33m\u001b[0m\u001b[1;33m\u001b[0m\u001b[0m\n\u001b[1;32m---> 89\u001b[1;33m         \u001b[0mself\u001b[0m\u001b[1;33m.\u001b[0m\u001b[0m_execute\u001b[0m\u001b[1;33m(\u001b[0m\u001b[0mCommand\u001b[0m\u001b[1;33m.\u001b[0m\u001b[0mCLICK_ELEMENT\u001b[0m\u001b[1;33m)\u001b[0m\u001b[1;33m\u001b[0m\u001b[1;33m\u001b[0m\u001b[0m\n\u001b[0m\u001b[0;32m     90\u001b[0m \u001b[1;33m\u001b[0m\u001b[0m\n",
      "\u001b[1;32m~\\anaconda3\\lib\\site-packages\\selenium\\webdriver\\remote\\webelement.py\u001b[0m in \u001b[0;36m_execute\u001b[1;34m(self, command, params)\u001b[0m\n\u001b[0;32m    772\u001b[0m         \u001b[0mparams\u001b[0m\u001b[1;33m[\u001b[0m\u001b[1;34m'id'\u001b[0m\u001b[1;33m]\u001b[0m \u001b[1;33m=\u001b[0m \u001b[0mself\u001b[0m\u001b[1;33m.\u001b[0m\u001b[0m_id\u001b[0m\u001b[1;33m\u001b[0m\u001b[1;33m\u001b[0m\u001b[0m\n\u001b[1;32m--> 773\u001b[1;33m         \u001b[1;32mreturn\u001b[0m \u001b[0mself\u001b[0m\u001b[1;33m.\u001b[0m\u001b[0m_parent\u001b[0m\u001b[1;33m.\u001b[0m\u001b[0mexecute\u001b[0m\u001b[1;33m(\u001b[0m\u001b[0mcommand\u001b[0m\u001b[1;33m,\u001b[0m \u001b[0mparams\u001b[0m\u001b[1;33m)\u001b[0m\u001b[1;33m\u001b[0m\u001b[1;33m\u001b[0m\u001b[0m\n\u001b[0m\u001b[0;32m    774\u001b[0m \u001b[1;33m\u001b[0m\u001b[0m\n",
      "\u001b[1;32m~\\anaconda3\\lib\\site-packages\\selenium\\webdriver\\remote\\webdriver.py\u001b[0m in \u001b[0;36mexecute\u001b[1;34m(self, driver_command, params)\u001b[0m\n\u001b[0;32m    429\u001b[0m         \u001b[1;32mif\u001b[0m \u001b[0mresponse\u001b[0m\u001b[1;33m:\u001b[0m\u001b[1;33m\u001b[0m\u001b[1;33m\u001b[0m\u001b[0m\n\u001b[1;32m--> 430\u001b[1;33m             \u001b[0mself\u001b[0m\u001b[1;33m.\u001b[0m\u001b[0merror_handler\u001b[0m\u001b[1;33m.\u001b[0m\u001b[0mcheck_response\u001b[0m\u001b[1;33m(\u001b[0m\u001b[0mresponse\u001b[0m\u001b[1;33m)\u001b[0m\u001b[1;33m\u001b[0m\u001b[1;33m\u001b[0m\u001b[0m\n\u001b[0m\u001b[0;32m    431\u001b[0m             response['value'] = self._unwrap_value(\n",
      "\u001b[1;32m~\\anaconda3\\lib\\site-packages\\selenium\\webdriver\\remote\\errorhandler.py\u001b[0m in \u001b[0;36mcheck_response\u001b[1;34m(self, response)\u001b[0m\n\u001b[0;32m    246\u001b[0m             \u001b[1;32mraise\u001b[0m \u001b[0mexception_class\u001b[0m\u001b[1;33m(\u001b[0m\u001b[0mmessage\u001b[0m\u001b[1;33m,\u001b[0m \u001b[0mscreen\u001b[0m\u001b[1;33m,\u001b[0m \u001b[0mstacktrace\u001b[0m\u001b[1;33m,\u001b[0m \u001b[0malert_text\u001b[0m\u001b[1;33m)\u001b[0m  \u001b[1;31m# type: ignore[call-arg]  # mypy is not smart enough here\u001b[0m\u001b[1;33m\u001b[0m\u001b[1;33m\u001b[0m\u001b[0m\n\u001b[1;32m--> 247\u001b[1;33m         \u001b[1;32mraise\u001b[0m \u001b[0mexception_class\u001b[0m\u001b[1;33m(\u001b[0m\u001b[0mmessage\u001b[0m\u001b[1;33m,\u001b[0m \u001b[0mscreen\u001b[0m\u001b[1;33m,\u001b[0m \u001b[0mstacktrace\u001b[0m\u001b[1;33m)\u001b[0m\u001b[1;33m\u001b[0m\u001b[1;33m\u001b[0m\u001b[0m\n\u001b[0m\u001b[0;32m    248\u001b[0m \u001b[1;33m\u001b[0m\u001b[0m\n",
      "\u001b[1;31mElementNotInteractableException\u001b[0m: Message: element not interactable\n  (Session info: chrome=102.0.5005.63)\nStacktrace:\nBacktrace:\n\tOrdinal0 [0x00ABD953+2414931]\n\tOrdinal0 [0x00A4F5E1+1963489]\n\tOrdinal0 [0x0093C580+836992]\n\tOrdinal0 [0x0096A4F3+1025267]\n\tOrdinal0 [0x00960293+983699]\n\tOrdinal0 [0x0098449C+1131676]\n\tOrdinal0 [0x0095FC74+982132]\n\tOrdinal0 [0x009846B4+1132212]\n\tOrdinal0 [0x00994812+1198098]\n\tOrdinal0 [0x009842B6+1131190]\n\tOrdinal0 [0x0095E860+976992]\n\tOrdinal0 [0x0095F756+980822]\n\tGetHandleVerifier [0x00D2CC62+2510274]\n\tGetHandleVerifier [0x00D1F760+2455744]\n\tGetHandleVerifier [0x00B4EABA+551962]\n\tGetHandleVerifier [0x00B4D916+547446]\n\tOrdinal0 [0x00A55F3B+1990459]\n\tOrdinal0 [0x00A5A898+2009240]\n\tOrdinal0 [0x00A5A985+2009477]\n\tOrdinal0 [0x00A63AD1+2046673]\n\tBaseThreadInitThunk [0x76516739+25]\n\tRtlGetFullPathName_UEx [0x77388FEF+1215]\n\tRtlGetFullPathName_UEx [0x77388FBD+1165]\n",
      "\nDuring handling of the above exception, another exception occurred:\n",
      "\u001b[1;31mNameError\u001b[0m                                 Traceback (most recent call last)",
      "\u001b[1;32mC:\\Users\\WWWABC~1.IN\\AppData\\Local\\Temp/ipykernel_21660/213832909.py\u001b[0m in \u001b[0;36m<module>\u001b[1;34m\u001b[0m\n\u001b[1;32m----> 1\u001b[1;33m \u001b[0mcallCheapFlightStatus\u001b[0m\u001b[1;33m(\u001b[0m\u001b[1;34m\"pnq\"\u001b[0m\u001b[1;33m,\u001b[0m\u001b[1;34m\"ccu\"\u001b[0m\u001b[1;33m,\u001b[0m\u001b[1;34m\"2022-07-02\"\u001b[0m\u001b[1;33m,\u001b[0m\u001b[1;34m\"\"\u001b[0m\u001b[1;33m)\u001b[0m\u001b[1;33m\u001b[0m\u001b[1;33m\u001b[0m\u001b[0m\n\u001b[0m",
      "\u001b[1;32mC:\\Users\\WWWABC~1.IN\\AppData\\Local\\Temp/ipykernel_21660/681998398.py\u001b[0m in \u001b[0;36mcallCheapFlightStatus\u001b[1;34m(source, destination, startDate, endDate)\u001b[0m\n\u001b[0;32m     33\u001b[0m             \u001b[1;32mwhile\u001b[0m\u001b[1;33m(\u001b[0m\u001b[0mpastmonth\u001b[0m\u001b[1;33m!=\u001b[0m\u001b[0mcurrentmonth\u001b[0m\u001b[1;33m)\u001b[0m\u001b[1;33m:\u001b[0m\u001b[1;33m\u001b[0m\u001b[1;33m\u001b[0m\u001b[0m\n\u001b[0;32m     34\u001b[0m                 \u001b[0mdriver\u001b[0m\u001b[1;33m.\u001b[0m\u001b[0mfind_element_by_xpath\u001b[0m\u001b[1;33m(\u001b[0m\u001b[1;34m\"/html/body/div[1]/div/div[2]/div/div/div[2]/div[1]/div[3]/div[1]/div/div/div/div[2]/div/div[1]/span[2]\"\u001b[0m\u001b[1;33m)\u001b[0m\u001b[1;33m.\u001b[0m\u001b[0mclick\u001b[0m\u001b[1;33m(\u001b[0m\u001b[1;33m)\u001b[0m\u001b[1;33m\u001b[0m\u001b[1;33m\u001b[0m\u001b[0m\n\u001b[1;32m---> 35\u001b[1;33m         \u001b[1;32mexcept\u001b[0m \u001b[0me\u001b[0m\u001b[1;33m:\u001b[0m\u001b[1;33m\u001b[0m\u001b[1;33m\u001b[0m\u001b[0m\n\u001b[0m\u001b[0;32m     36\u001b[0m             \u001b[0mprint\u001b[0m\u001b[1;33m(\u001b[0m\u001b[1;34m\"Error - \"\u001b[0m \u001b[1;33m+\u001b[0m\u001b[0me\u001b[0m\u001b[1;33m)\u001b[0m\u001b[1;33m\u001b[0m\u001b[1;33m\u001b[0m\u001b[0m\n\u001b[0;32m     37\u001b[0m         \u001b[1;32mfinally\u001b[0m\u001b[1;33m:\u001b[0m\u001b[1;33m\u001b[0m\u001b[1;33m\u001b[0m\u001b[0m\n",
      "\u001b[1;31mNameError\u001b[0m: name 'e' is not defined"
     ]
    }
   ],
   "source": [
    "callCheapFlightStatus(\"pnq\",\"ccu\",\"2022-07-02\",\"\")"
   ]
  },
  {
   "cell_type": "code",
   "execution_count": null,
   "id": "b4bc367c",
   "metadata": {},
   "outputs": [],
   "source": []
  },
  {
   "cell_type": "code",
   "execution_count": null,
   "id": "1b2d817e",
   "metadata": {},
   "outputs": [],
   "source": []
  },
  {
   "cell_type": "code",
   "execution_count": null,
   "id": "29ce5a35",
   "metadata": {},
   "outputs": [],
   "source": []
  },
  {
   "cell_type": "code",
   "execution_count": null,
   "id": "a3390174",
   "metadata": {},
   "outputs": [],
   "source": []
  },
  {
   "cell_type": "code",
   "execution_count": null,
   "id": "e335a8d9",
   "metadata": {},
   "outputs": [],
   "source": []
  },
  {
   "cell_type": "code",
   "execution_count": null,
   "id": "9992e335",
   "metadata": {},
   "outputs": [],
   "source": []
  }
 ],
 "metadata": {
  "kernelspec": {
   "display_name": "Python 3 (ipykernel)",
   "language": "python",
   "name": "python3"
  },
  "language_info": {
   "codemirror_mode": {
    "name": "ipython",
    "version": 3
   },
   "file_extension": ".py",
   "mimetype": "text/x-python",
   "name": "python",
   "nbconvert_exporter": "python",
   "pygments_lexer": "ipython3",
   "version": "3.9.7"
  }
 },
 "nbformat": 4,
 "nbformat_minor": 5
}
