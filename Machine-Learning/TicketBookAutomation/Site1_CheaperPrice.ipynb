{
 "cells": [
  {
   "cell_type": "code",
   "execution_count": 10,
   "id": "18e41d11",
   "metadata": {},
   "outputs": [],
   "source": [
    "from selenium import webdriver\n",
    "from selenium.webdriver.common.keys import Keys\n",
    "import pandas as pd\n",
    "import datetime as datetime\n",
    "from datetime import datetime as dt\n",
    "from selenium.webdriver.common.by import By\n",
    "from selenium.webdriver.support.ui import WebDriverWait\n",
    "from selenium.webdriver.support import expected_conditions as EC\n",
    "import time\n",
    "from selenium.webdriver.chrome.options import Options\n",
    "import warnings\n",
    "from bs4 import BeautifulSoup, SoupStrainer\n",
    "\n",
    "\n",
    "warnings.filterwarnings(\"ignore\", category=DeprecationWarning) \n",
    "dictCalander = {\"January\":\"01\" ,\n",
    "\"February\":\"02\", \n",
    "\"March\":\"03\", \n",
    "\"April\":\"04\", \n",
    "\"May\":\"05\", \n",
    "\"June\":\"06\", \n",
    "\"July\":\"07\", \n",
    "\"August\":\"08\", \n",
    "\"September\":\"09\", \n",
    "\"October\":\"10\",\n",
    "\"November\":\"11\",\n",
    "\"December\":\"12\"}"
   ]
  },
  {
   "cell_type": "code",
   "execution_count": 2,
   "id": "56d60b4b",
   "metadata": {},
   "outputs": [],
   "source": [
    "def dataLoad():\n",
    "    return pd.read_excel(\"./Location.xlsx\").applymap(str.lower)"
   ]
  },
  {
   "cell_type": "code",
   "execution_count": 3,
   "id": "6daae003",
   "metadata": {},
   "outputs": [],
   "source": [
    "def cheapflightsearch(startlocation ,endlocation , startdate , enddate,dataframe):\n",
    "    airline = \"\";\n",
    "    price = \"\";\n",
    "    if(not((isValidLocation(dataframe,startlocation)) & (isValidLocation(dataframe,endlocation)))):\n",
    "        return (\"Invalid Location\" , \"-1\")\n",
    "    elif(not ((isValidDateFormat(startdate)) & ((isValidDateFormat(enddate) | (enddate is None) | (enddate ==\"\"))))):\n",
    "        return (\"Invalid Date\" , \"-1\")\n",
    "    return (airline , price)"
   ]
  },
  {
   "cell_type": "code",
   "execution_count": 4,
   "id": "c29fe433",
   "metadata": {},
   "outputs": [],
   "source": [
    "def isValidLocation(dataframe , location):\n",
    "    return (location.lower() in dataframe['Name'].unique()) | (location.lower() in dataframe['Code'].unique())"
   ]
  },
  {
   "cell_type": "code",
   "execution_count": 5,
   "id": "b5e44fb7",
   "metadata": {},
   "outputs": [],
   "source": [
    "def isValidDateFormat(dateValue):\n",
    "    format = \"%Y-%m-%d\"\n",
    "    present = dt.now().strftime(format)\n",
    "    present = datetime.datetime.strptime(present, format)\n",
    "    if dateValue is None:\n",
    "        return False\n",
    "    else:\n",
    "        try:\n",
    "            past = datetime.datetime.strptime(dateValue, format)\n",
    "            if past>present:\n",
    "                return True\n",
    "            else:\n",
    "                return False\n",
    "        except ValueError:\n",
    "            return False"
   ]
  },
  {
   "cell_type": "code",
   "execution_count": 169,
   "id": "b4bc367c",
   "metadata": {},
   "outputs": [],
   "source": [
    "def markupDetails(element,dayCheck):\n",
    "    rowValue=0\n",
    "    colvalue=0\n",
    "    flag = False\n",
    "    soup = BeautifulSoup(element, \"lxml\")\n",
    "    dayPicker =x.find_all(\"div\", {\"class\": \"DayPicker-Week\"})\n",
    "    for i in dayPicker:\n",
    "        a = len(i.find_all(\"div\",{\"class\" : \"DayPicker-Day--outside\"}))\n",
    "        dateInnercell =i.find_all(\"div\",{\"class\" : \"dateInnerCell\"})\n",
    "        for j in dateInnercell:\n",
    "            textValue = j.find_all('p')[0].text\n",
    "            if(textValue == dayCheck):\n",
    "                colvalue=colvalue+1\n",
    "                flag =True\n",
    "            else:\n",
    "                colvalue=colvalue+1\n",
    "            if(flag):\n",
    "                break\n",
    "        if(flag):\n",
    "            rowValue =rowValue+1\n",
    "            break\n",
    "    element = \"/html/body/div/div/div[2]/div/div/div[2]/div[1]/div[3]/div[1]/div/div/div/div[2]/div/div[2]/div[1]/div[3]/div[{}]/div[{}]\".format(rowValue,a+colvalue)\n",
    "    return element"
   ]
  },
  {
   "cell_type": "code",
   "execution_count": 170,
   "id": "f3a911ea",
   "metadata": {},
   "outputs": [],
   "source": [
    "def callCheapFlightStatus(source,destination,startDate,endDate):\n",
    "    dataframe = dataLoad()\n",
    "    result = cheapflightsearch(source,destination,startDate,endDate,dataframe)\n",
    "    if (result[0]==\"\"):\n",
    "        chrome_options = Options()\n",
    "        chrome_options.add_experimental_option(\"detach\", True)\n",
    "        driver = webdriver.Chrome('./chromedriver', options=chrome_options)\n",
    "        driver.get(\"https://www.makemytrip.com/\")\n",
    "        try:\n",
    "            driver.maximize_window()\n",
    "            WebDriverWait(driver, 5).until(EC.presence_of_element_located((By.XPATH, '/html')))\n",
    "            driver.find_element_by_xpath(\"/html/body/div[1]/div/div[2]/div/div/div[2]/div[1]/div[1]/label/input\").click()\n",
    "            time.sleep(3)\n",
    "            sourceFiled= driver.find_element_by_xpath(\"/html/body/div[1]/div/div[2]/div/div/div[2]/div[1]/div[1]/div[1]/div/div/div/input\")\n",
    "            sourceFiled.clear()\n",
    "            sourceFiled.send_keys(source)\n",
    "            time.sleep(3)\n",
    "            driver.find_element_by_xpath(\"/html/body/div[1]/div/div[2]/div/div/div[2]/div[1]/div[1]/div[1]/div/div/div/div/div[1]/ul/li[1]/div/div[1]\").click()\n",
    "            time.sleep(3)\n",
    "            destinationPath=driver.find_element_by_xpath(\"/html/body/div[1]/div/div[2]/div/div/div[2]/div[1]/div[2]/div[1]/div/div/div[1]/input\")\n",
    "            destinationPath.clear()\n",
    "            destinationPath.send_keys(destination)\n",
    "            time.sleep(3)\n",
    "            driver.find_element_by_xpath(\"/html/body/div[1]/div/div[2]/div/div/div[2]/div[1]/div[2]/div[1]/div/div/div[1]/div/div[1]/ul/li[1]/div/div[1]\").click()\n",
    "            time.sleep(3)\n",
    "            currentmonth = driver.find_element_by_xpath(\"/html/body/div[1]/div/div[2]/div/div/div[2]/div[1]/div[3]/div[1]/div/div/div/div[2]/div/div[2]/div[1]/div[1]/div\").text\n",
    "            pastmonth = dictCalander.get(currentmonth.split()[0])\n",
    "            startMonth=startDate.split(\"-\")[1]\n",
    "            startDay=startDate.split(\"-\")[2]\n",
    "            while(pastmonth!=startMonth):\n",
    "                driver.find_element_by_xpath(\"/html/body/div[1]/div/div[2]/div/div/div[2]/div[1]/div[3]/div[1]/div/div/div/div[2]/div/div[1]/span[2]\").click()\n",
    "                print(\"Past Month \" +pastmonth)\n",
    "                print(\"startMonth Month \"+startMonth)\n",
    "                time.sleep(3)\n",
    "                currentmonth = driver.find_element_by_xpath(\"/html/body/div[1]/div/div[2]/div/div/div[2]/div[1]/div[3]/div[1]/div/div/div/div[2]/div/div[2]/div[1]/div[1]/div\").text\n",
    "                pastmonth = dictCalander.get(currentmonth.split()[0])\n",
    "            time.sleep(3)\n",
    "            element = driver.find_element_by_xpath(\"/html/body/div/div/div[2]/div/div/div[2]/div[1]/div[3]/div[1]/div/div/div/div[2]/div/div[2]/div[1]/div[3]\").get_attribute('outerHTML')\n",
    "            clickablemonth = markupDetails(element , startDay.lstrip('0'))\n",
    "            driver.find_element_by_xpath(clickablemonth).click()\n",
    "            time.sleep(3)\n",
    "            driver.find_element_by_xpath(\"/html/body/div/div/div[2]/div/div/div[2]/p/a\").click()\n",
    "            time.sleep(3)\n",
    "            currentUrl = driver.current_url\n",
    "            print(currentUrl)\n",
    "        except Exception as e:\n",
    "            print(e.args[0])\n",
    "        finally:\n",
    "            #driver.close()\n",
    "            print(\"Executed\")\n",
    "    else:\n",
    "        print(result)"
   ]
  },
  {
   "cell_type": "code",
   "execution_count": 171,
   "id": "8b9492a9",
   "metadata": {},
   "outputs": [
    {
     "name": "stdout",
     "output_type": "stream",
     "text": [
      "Past Month 06\n",
      "startMonth Month 07\n",
      "https://www.makemytrip.com/flight/search?itinerary=PNQ-CCU-02/07/2022&tripType=O&paxType=A-1_C-0_I-0&intl=false&cabinClass=E&ccde=IN&lang=eng\n",
      "Executed\n"
     ]
    }
   ],
   "source": [
    "callCheapFlightStatus(\"pnq\",\"ccu\",\"2022-07-02\",\"\")"
   ]
  }
 ],
 "metadata": {
  "kernelspec": {
   "display_name": "Python 3 (ipykernel)",
   "language": "python",
   "name": "python3"
  },
  "language_info": {
   "codemirror_mode": {
    "name": "ipython",
    "version": 3
   },
   "file_extension": ".py",
   "mimetype": "text/x-python",
   "name": "python",
   "nbconvert_exporter": "python",
   "pygments_lexer": "ipython3",
   "version": "3.9.7"
  }
 },
 "nbformat": 4,
 "nbformat_minor": 5
}
