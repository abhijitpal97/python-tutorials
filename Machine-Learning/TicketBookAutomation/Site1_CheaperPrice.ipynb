{
 "cells": [
  {
   "cell_type": "code",
   "execution_count": 1,
   "id": "18e41d11",
   "metadata": {},
   "outputs": [],
   "source": [
    "from selenium import webdriver\n",
    "from selenium.webdriver.common.keys import Keys\n",
    "import pandas as pd\n",
    "import datetime as datetime"
   ]
  },
  {
   "cell_type": "code",
   "execution_count": 2,
   "id": "56d60b4b",
   "metadata": {},
   "outputs": [],
   "source": [
    "def dataLoad():\n",
    "    return pd.read_excel(\"./Location.xlsx\").applymap(str.lower)"
   ]
  },
  {
   "cell_type": "code",
   "execution_count": 3,
   "id": "6daae003",
   "metadata": {},
   "outputs": [],
   "source": [
    "def cheapflightsearch(startlocation ,endlocation , startdate , enddate,dataframe):\n",
    "    airline = \"Indigo\";\n",
    "    price = \"0\";\n",
    "    if(not((isValidLocation(dataframe,startlocation)) & (isValidLocation(dataframe,endlocation)))):\n",
    "        return (\"Invalid Location\" , \"-1\")\n",
    "    elif(not ((isValidDateFormat(startdate)) & ((isValidDateFormat(enddate) | (enddate is None))))):\n",
    "        return (\"Invalid Date\" , \"-1\")\n",
    "    return (airline , price)"
   ]
  },
  {
   "cell_type": "code",
   "execution_count": 4,
   "id": "c29fe433",
   "metadata": {},
   "outputs": [],
   "source": [
    "def isValidLocation(dataframe , location):\n",
    "    return (location.lower() in dataframe['Name'].unique()) | (location.lower() in dataframe['Code'].unique())"
   ]
  },
  {
   "cell_type": "code",
   "execution_count": 5,
   "id": "b5e44fb7",
   "metadata": {},
   "outputs": [],
   "source": [
    "def isValidDateFormat(dateValue):\n",
    "    format = \"%Y-%m-%d\"\n",
    "    if dateValue is None:\n",
    "        return False\n",
    "    else:\n",
    "        try:\n",
    "            datetime.datetime.strptime(dateValue, format)\n",
    "            return True\n",
    "        except ValueError:\n",
    "            return False"
   ]
  },
  {
   "cell_type": "code",
   "execution_count": 27,
   "id": "f3a911ea",
   "metadata": {},
   "outputs": [],
   "source": [
    "def callCheapFlightStatus(source,destination,startDate,endDate):\n",
    "    dataframe = dataLoad()\n",
    "    result = cheapflightsearch(source,destination,startDate,endDate,dataframe)\n",
    "    if result is None:\n",
    "        driver = webdriver.Chrome('./chromedriver')\n",
    "        driver.get(\"https://www.makemytrip.com/\")\n",
    "        driver.maximize_window()\n",
    "        driver.close()\n",
    "    else:\n",
    "        print(result)"
   ]
  },
  {
   "cell_type": "code",
   "execution_count": null,
   "id": "8b9492a9",
   "metadata": {},
   "outputs": [],
   "source": []
  },
  {
   "cell_type": "code",
   "execution_count": null,
   "id": "d716b9e3",
   "metadata": {},
   "outputs": [],
   "source": []
  },
  {
   "cell_type": "code",
   "execution_count": null,
   "id": "b4bc367c",
   "metadata": {},
   "outputs": [],
   "source": []
  }
 ],
 "metadata": {
  "kernelspec": {
   "display_name": "Python 3 (ipykernel)",
   "language": "python",
   "name": "python3"
  },
  "language_info": {
   "codemirror_mode": {
    "name": "ipython",
    "version": 3
   },
   "file_extension": ".py",
   "mimetype": "text/x-python",
   "name": "python",
   "nbconvert_exporter": "python",
   "pygments_lexer": "ipython3",
   "version": "3.9.7"
  }
 },
 "nbformat": 4,
 "nbformat_minor": 5
}
