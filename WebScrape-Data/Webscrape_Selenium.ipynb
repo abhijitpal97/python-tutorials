{
 "cells": [
  {
   "cell_type": "code",
   "execution_count": 5,
   "metadata": {},
   "outputs": [],
   "source": [
    "from selenium import webdriver\n",
    "from selenium.webdriver.chrome.options import Options as ChromeOptions\n",
    "from selenium.webdriver.firefox.options import Options as FirefoxOptions\n",
    "\n",
    "# configure Chrome Webdriver\n",
    "def configure_chrome_driver():\n",
    "    # Add additional Options to the webdriver\n",
    "    chrome_options = ChromeOptions()\n",
    "    # add the argument and make the browser Headless.\n",
    "    chrome_options.add_argument(\"--headless\")\n",
    "    # Instantiate the Webdriver: Mention the executable path of the webdriver you have downloaded\n",
    "    # if driver is in PATH, no need to provide executable_path\n",
    "    driver = webdriver.Chrome(executable_path=\"./chromedriver.exe\", options = chrome_options)\n",
    "    return driver\n",
    "\n",
    "# configure Firefox Driver\n",
    "def configure_firefox_driver():\n",
    "    # Add additional Options to the webdriver\n",
    "    firefox_options = FirefoxOptions()\n",
    "    # add the argument and make the browser Headless.\n",
    "    firefox_options.add_argument(\"--headless\")\n",
    "\n",
    "    # Instantiate the Webdriver: Mention the executable path of the webdriver you have downloaded\n",
    "    # if driver is in PATH, no need to provide executable_path\n",
    "    driver = webdriver.Firefox(executable_path = \"./geckodriver.exe\", options = firefox_options)\n",
    "    return driver\n",
    "## We can configure amny more Driver based on requirements"
   ]
  },
  {
   "cell_type": "code",
   "execution_count": 6,
   "metadata": {},
   "outputs": [],
   "source": [
    "from selenium.webdriver.support.ui import WebDriverWait\n",
    "from selenium.common.exceptions import TimeoutException\n",
    "from bs4 import BeautifulSoup\n",
    "\n",
    "def getCourses(driver, search_keyword):\n",
    "    # Step 1: Go to pluralsight.com\n",
    "    driver.get(f\"https://www.pluralsight.com/search?q={search_keyword}&categories=course\")\n",
    "    WebDriverWait(driver, 5).until(\n",
    "        lambda s: s.find_element_by_id(\"search-results-category-target\").is_displayed()\n",
    "    )\n",
    "    \n",
    "    # Load all the page data, by clicking Load More button again and again\n",
    "    # loadAllContent(driver) # Uncomment me for loading all the content of the page\n",
    "    \n",
    "    # Step 2: Create a parse tree of page sources after searching\n",
    "    soup = BeautifulSoup(driver.page_source, \"lxml\")\n",
    "    \n",
    "    # Step 3: Iterate over the search result and fetch the course\n",
    "    for course_page in soup.select(\"div.search-results-page\"):\n",
    "        for course in course_page.select(\"div.search-result\"):\n",
    "            # selectors for the required information\n",
    "            title_selector = \"div.search-result__info div.search-result__title a\"\n",
    "            author_selector = \"div.search-result__details div.search-result__author\"\n",
    "            level_selector = \"div.search-result__details div.search-result__level\"\n",
    "            length_selector = \"div.search-result__details div.search-result__length\"\n",
    "            print({\n",
    "                \"title\": course.select_one(title_selector).text,\n",
    "                \"author\": course.select_one(author_selector).text,\n",
    "                \"level\": course.select_one(level_selector).text,\n",
    "                \"length\": course.select_one(length_selector).text,\n",
    "            })\n",
    "            "
   ]
  },
  {
   "cell_type": "code",
   "execution_count": 7,
   "metadata": {},
   "outputs": [
    {
     "name": "stdout",
     "output_type": "stream",
     "text": [
      "{'title': 'Fundamentals of Machine Learning on AWS', 'author': 'by Amber Israelsen', 'level': 'Intermediate', 'length': '2h 18m'}\n",
      "{'title': 'Preparing Data for Machine Learning', 'author': 'by Janani Ravi', 'level': 'Beginner', 'length': '3h 24m'}\n",
      "{'title': 'Data Engineering with AWS Machine Learning', 'author': 'by Kim Schmidt', 'level': 'Advanced', 'length': '2h 54m'}\n",
      "{'title': 'Play by Play: Machine Learning Exposed', 'author': 'by Katharine Beaumont', 'level': 'Beginner', 'length': '2h 51m'}\n",
      "{'title': 'Building Machine Learning Models in Python with scikit-learn', 'author': 'by Janani Ravi', 'level': 'Beginner', 'length': '3h 12m'}\n",
      "{'title': 'Building Machine Learning Models in Spark 2', 'author': 'by Janani Ravi', 'level': 'Intermediate', 'length': '3h 27m'}\n",
      "{'title': 'Implementing and Operating AWS Machine Learning Solutions', 'author': 'by David Tucker', 'level': 'Advanced', 'length': '1h 56m'}\n",
      "{'title': 'Building Classification Models with scikit-learn', 'author': 'by Janani Ravi', 'level': 'Beginner', 'length': '2h 33m'}\n",
      "{'title': 'Understanding Machine Learning', 'author': 'by David Chappell', 'level': 'Beginner', 'length': '43m'}\n",
      "{'title': 'Building Your First scikit-learn Solution', 'author': 'by Janani Ravi', 'level': 'Beginner', 'length': '2h 7m'}\n",
      "{'title': 'How Machine Learning Works', 'author': 'by Paolo Perrotta', 'level': 'Beginner', 'length': '2h 22m'}\n",
      "{'title': 'Understanding Machine Learning with Python', 'author': 'by Jerry Kurata', 'level': 'Beginner', 'length': '1h 53m'}\n",
      "{'title': 'Building Your First Machine Learning Solution', 'author': 'by Mohammed Osman', 'level': 'Beginner', 'length': '3h 10m'}\n",
      "{'title': 'Understanding Algorithms for Reinforcement Learning', 'author': 'by Janani Ravi', 'level': 'Beginner', 'length': '2h 7m'}\n",
      "{'title': 'Build, Train, and Deploy Machine Learning Models with Amazon SageMaker', 'author': 'by Jorge Vasquez', 'level': 'Advanced', 'length': '2h 40m'}\n",
      "{'title': 'Build, Train, and Deploy Your First Neural Network with TensorFlow', 'author': 'by Jerry Kurata', 'level': 'Beginner', 'length': '2h 46m'}\n",
      "{'title': 'Doing Data Science with Python', 'author': 'by Abhishek Kumar', 'level': 'Beginner', 'length': '6h 24m'}\n",
      "{'title': 'Scalable Machine Learning with the Microsoft Machine Learning Server', 'author': 'by Shawn Hainsworth', 'level': 'Advanced', 'length': '2h 21m'}\n",
      "{'title': 'Creating Machine Learning Models', 'author': 'by Janani Ravi', 'level': 'Intermediate', 'length': '2h 43m'}\n",
      "{'title': 'Developing AI Models in Microsoft Azure', 'author': 'by Sahil Malik', 'level': 'Intermediate', 'length': '1h 31m'}\n",
      "{'title': 'Machine Learning for Retail', 'author': 'by Janani Ravi', 'level': 'Beginner', 'length': '1h 59m'}\n",
      "{'title': 'Machine Learning for Marketing', 'author': 'by Janani Ravi', 'level': 'Beginner', 'length': '1h 47m'}\n",
      "{'title': 'Build Machine Learning Models with Azure Machine Learning Designer', 'author': 'by Ifedayo Bamikole', 'level': 'Intermediate', 'length': '1h 9m'}\n",
      "{'title': 'Designing a Machine Learning Model', 'author': 'by Janani Ravi', 'level': 'Intermediate', 'length': '3h 24m'}\n",
      "{'title': 'Machine Learning for Financial Services', 'author': 'by Janani Ravi', 'level': 'Beginner', 'length': '1h 51m'}\n"
     ]
    }
   ],
   "source": [
    "# Driver code\n",
    "# create the driver object.\n",
    "driver = configure_chrome_driver()\n",
    "search_keyword = \"Machine Learning\"\n",
    "getCourses(driver, search_keyword)\n",
    "# close the driver.\n",
    "driver.close()"
   ]
  }
 ],
 "metadata": {
  "kernelspec": {
   "display_name": "Python 3",
   "language": "python",
   "name": "python3"
  },
  "language_info": {
   "codemirror_mode": {
    "name": "ipython",
    "version": 3
   },
   "file_extension": ".py",
   "mimetype": "text/x-python",
   "name": "python",
   "nbconvert_exporter": "python",
   "pygments_lexer": "ipython3",
   "version": "3.8.3"
  }
 },
 "nbformat": 4,
 "nbformat_minor": 4
}
